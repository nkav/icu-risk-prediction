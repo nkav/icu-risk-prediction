{
 "cells": [
  {
   "cell_type": "markdown",
   "metadata": {},
   "source": [
    "## Import relevant modules"
   ]
  },
  {
   "cell_type": "code",
   "execution_count": 11,
   "metadata": {
    "collapsed": true
   },
   "outputs": [],
   "source": [
    "%matplotlib inline\n",
    "\n",
    "import pandas as pd\n",
    "import matplotlib.pyplot as plt\n",
    "import matplotlib as mt\n",
    "import seaborn as sns\n",
    "import numpy as np\n",
    "import datetime as dt\n",
    "import math\n",
    "import psycopg2\n",
    "import statsmodels.api as sm\n",
    "import brewer2mpl\n",
    "import pickle\n",
    "import sklearn\n",
    "from sklearn.model_selection import train_test_split"
   ]
  },
  {
   "cell_type": "markdown",
   "metadata": {},
   "source": [
    "## Query the MIMIC database for relevant patient information"
   ]
  },
  {
   "cell_type": "code",
   "execution_count": 4,
   "metadata": {
    "collapsed": true
   },
   "outputs": [],
   "source": [
    "conn = psycopg2.connect(dbname=\"mimic\", user=\"pradeepbandaru\", password=\"RasRafB2H\")\n",
    "\n",
    "# calculate patient age at admission and store along with select columns from icustays table\n",
    "icustays_query = \"\"\"SELECT ie.subject_id, ie.hadm_id, ie.icustay_id,\n",
    "ie.intime, ie.outtime, ie.first_careunit,\n",
    "date_part('day', pat.dod_hosp - ie.intime) AS survival_days,\n",
    "ROUND((cast(ie.intime as date) - cast(pat.dob as date))/365.242, 2) AS age_admit\n",
    "FROM mimiciii.icustays ie\n",
    "INNER JOIN mimiciii.patients pat\n",
    "ON ie.subject_id = pat.subject_id;\n",
    "\"\"\"\n",
    "# WHERE pat.expireflag = 1\n",
    "\n",
    "# calculate patient age at death and store along with select columns from admissions table\n",
    "admissions_query = \"\"\"SELECT ad.subject_id, ad.hadm_id, ad.deathtime,\n",
    "ad.insurance, ad.language, ad.religion, ad.marital_status, ad.admission_type,\n",
    "case\n",
    "    when ad.ethnicity like '%WHITE%' then 'WHITE'\n",
    "    when ad.ethnicity like '%BLACK%' then 'BLACK'\n",
    "    when ad.ethnicity like '%HISPANIC%' then 'HISPANIC'\n",
    "    when ad.ethnicity like '%ASIAN%' then 'ASIAN'\n",
    "    else 'OTHER' end as ethnicity,\n",
    "ad.hospital_expire_flag,\n",
    "ROUND((cast(ad.deathtime as date) - cast(pat.dob as date))/365.242, 2) AS age_death\n",
    "FROM mimiciii.admissions ad\n",
    "INNER JOIN mimiciii.patients pat\n",
    "ON ad.subject_id = pat.subject_id\n",
    "\"\"\"\n",
    "\n",
    "# select columns from diagnoses_icd table\n",
    "diagnoses_icd_query = \"\"\"SELECT di.subject_id, di.hadm_id, di.icd9_code  \n",
    "FROM mimiciii.diagnoses_icd di\"\"\"\n",
    "\n",
    "# select columns from patients table\n",
    "patients_query = \"\"\"SELECT pat.subject_id, pat.gender FROM mimiciii.patients pat\"\"\"\n",
    "\n",
    "# execute SQL queries and store in pandas dataframes\n",
    "icustays_table = pd.read_sql_query(icustays_query,conn)\n",
    "admissions_table = pd.read_sql_query(admissions_query,conn)\n",
    "diagnoses_icd_table = pd.read_sql_query(diagnoses_icd_query,conn)\n",
    "patients_table = pd.read_sql_query(patients_query,conn)"
   ]
  },
  {
   "cell_type": "code",
   "execution_count": 5,
   "metadata": {
    "collapsed": true
   },
   "outputs": [],
   "source": [
    "# combine all tables into one master table per patient\n",
    "dfs = [icustays_table, admissions_table, diagnoses_icd_table, patients_table]\n",
    "master = reduce(lambda left,right: pd.merge(left,right,on='subject_id'), dfs)\n",
    "master = master.drop_duplicates(subset=['subject_id', 'hadm_id'])\n",
    "\n",
    "# get rid of unwanted columns\n",
    "cols = ['hadm_id_y', 'hadm_id', 'intime', 'outtime', 'deathtime']\n",
    "master.drop(cols, inplace=True, axis=1)"
   ]
  },
  {
   "cell_type": "markdown",
   "metadata": {},
   "source": [
    "## Filter master patient table by disease-specific ICD9 codes"
   ]
  },
  {
   "cell_type": "code",
   "execution_count": 6,
   "metadata": {
    "collapsed": true,
    "scrolled": false
   },
   "outputs": [],
   "source": [
    "#master.head(15)\n",
    "#print df_final.shape\n",
    "\n",
    "# filter the master table by patients who have died in the hospital\n",
    "#master2 = master.query('age_admit > 100')\n",
    "master2 = master[master.age_admit > 100]\n",
    "\n",
    "#filter the master table by icd9 codes that correspond to AKI or MI\n",
    "#MI:\n",
    "master2 = master.loc[master['icd9_code'].isin(['41011', '41091', '412', '4139', '41401', '41400', '41000', '41010'])]\n",
    "\n",
    "#AKI:\n",
    "#master2 = master.loc[master['icd9_code'].isin(['5939', '5845', '5846', '5847', '5848', '5849'])]\n",
    "#master2.head(20)\n",
    "#master2.shape\n",
    "#make some plots from the master table"
   ]
  },
  {
   "cell_type": "markdown",
   "metadata": {},
   "source": [
    "## Make some plots of the data"
   ]
  },
  {
   "cell_type": "code",
   "execution_count": 5,
   "metadata": {
    "collapsed": true
   },
   "outputs": [],
   "source": [
    "# Set up some better defaults for matplotlib\n",
    "from matplotlib import rcParams\n",
    "\n",
    "#colorbrewer2 Dark2 qualitative color table\n",
    "dark2_colors = brewer2mpl.get_map('Dark2', 'Qualitative', 7).mpl_colors\n",
    "\n",
    "rcParams['figure.figsize'] = (10, 6)\n",
    "rcParams['figure.dpi'] = 150\n",
    "#rcParams['axes.prop_cycle'] = dark2_colors\n",
    "rcParams['lines.linewidth'] = 2\n",
    "rcParams['axes.facecolor'] = 'white'\n",
    "rcParams['font.size'] = 14\n",
    "rcParams['patch.edgecolor'] = 'white'\n",
    "rcParams['patch.facecolor'] = dark2_colors[0]\n",
    "rcParams['font.family'] = 'StixGeneral'\n",
    "\n",
    "\n",
    "def remove_border(axes=None, top=False, right=False, left=True, bottom=True, ax = None):\n",
    "    \"\"\"\n",
    "    Minimize chartjunk by stripping out unnecesasry plot borders and axis ticks\n",
    "    \n",
    "    The top/right/left/bottom keywords toggle whether the corresponding plot border is drawn\n",
    "    \"\"\"\n",
    "    if ax == None:\n",
    "        ax = axes or plt.gca()\n",
    "    ax.spines['top'].set_visible(top)\n",
    "    ax.spines['right'].set_visible(right)\n",
    "    ax.spines['left'].set_visible(left)\n",
    "    ax.spines['bottom'].set_visible(bottom)\n",
    "    \n",
    "    #turn off all ticks\n",
    "    ax.yaxis.set_ticks_position('none')\n",
    "    ax.xaxis.set_ticks_position('none')\n",
    "    \n",
    "    #now re-enable visibles\n",
    "    if top:\n",
    "        ax.xaxis.tick_top()\n",
    "    if bottom:\n",
    "        ax.xaxis.tick_bottom()\n",
    "    if left:\n",
    "        ax.yaxis.tick_left()\n",
    "    if right:\n",
    "        ax.yaxis.tick_right()"
   ]
  },
  {
   "cell_type": "code",
   "execution_count": 6,
   "metadata": {
    "collapsed": true
   },
   "outputs": [],
   "source": [
    "#p = master2[['age_admit','gender']].groupby('gender').boxplot(return_type='axes')\n",
    "# master2['survival_days'].value_counts()\n",
    "# sns.countplot(x='survival_days',data=master2, palette='hls')\n",
    "# plt.show()"
   ]
  },
  {
   "cell_type": "code",
   "execution_count": 7,
   "metadata": {
    "collapsed": true
   },
   "outputs": [],
   "source": [
    "# number of men and women\n",
    "#print master2.gender.value_counts()\n",
    "\n",
    "#counts by ICU\n",
    "#pd.crosstab(master2.first_careunit, master2.gender)\n",
    "\n",
    "#master2.to_csv('~/Desktop/data.csv')"
   ]
  },
  {
   "cell_type": "code",
   "execution_count": 8,
   "metadata": {
    "collapsed": true
   },
   "outputs": [],
   "source": [
    "# pd.crosstab(master2.age_admit,master2.survival_days).plot(kind='bar')\n",
    "# plt.title('Purchase Frequency for Job Title')\n",
    "# plt.xlabel('Job')\n",
    "# plt.ylabel('Frequency of Purchase')"
   ]
  },
  {
   "cell_type": "code",
   "execution_count": 9,
   "metadata": {
    "collapsed": true
   },
   "outputs": [],
   "source": [
    "#pd.crosstab(master2.insurance, master2.gender)"
   ]
  },
  {
   "cell_type": "markdown",
   "metadata": {},
   "source": [
    "## Train a regression model"
   ]
  },
  {
   "cell_type": "code",
   "execution_count": 7,
   "metadata": {
    "collapsed": true,
    "scrolled": false
   },
   "outputs": [],
   "source": [
    "# remove missing data\n",
    "#master2 = master2.dropna(axis=0)\n",
    "\n",
    "# create dummy variables for parameters and one-hot encode categorical variables\n",
    "dummy_list = ['age_admit', 'gender', 'first_careunit', 'marital_status', 'ethnicity', 'admission_type', 'insurance']\n",
    "dummy_frames = [pd.get_dummies(master2[x]) for x in dummy_list]\n",
    "dummy_frames = pd.concat(dummy_frames, axis=1)\n",
    "#master2.shape"
   ]
  },
  {
   "cell_type": "code",
   "execution_count": 8,
   "metadata": {
    "scrolled": false
   },
   "outputs": [
    {
     "name": "stderr",
     "output_type": "stream",
     "text": [
      "/Users/pradeepbandaru/anaconda/lib/python2.7/site-packages/ipykernel_launcher.py:1: SettingWithCopyWarning: \n",
      "A value is trying to be set on a copy of a slice from a DataFrame.\n",
      "Try using .loc[row_indexer,col_indexer] = value instead\n",
      "\n",
      "See the caveats in the documentation: http://pandas.pydata.org/pandas-docs/stable/indexing.html#indexing-view-versus-copy\n",
      "  \"\"\"Entry point for launching an IPython kernel.\n"
     ]
    }
   ],
   "source": [
    "master2['year_die'] = (master2.survival_days < 365).astype(int)\n",
    "master3 = pd.concat([master2, dummy_frames], axis=1)\n",
    "master3['intercept'] = 1.0\n",
    "# train_cols = ['intercept','age_admit', 'CSRU', 'MICU', 'SICU', 'CCU', \n",
    "#              'DIVORCED', 'MARRIED', 'SEPARATED', 'WIDOWED', 'SINGLE', \n",
    "#              'ASIAN', 'BLACK', 'HISPANIC', 'WHITE', \n",
    "#              'EMERGENCY', 'URGENT',\n",
    "#              'Medicaid', 'Medicare', 'Private', 'Government']\n",
    "\n",
    "\n",
    "# MI features\n",
    "train_cols = ['intercept','age_admit', \n",
    "             'M',\n",
    "             'CCU', 'CSRU',\n",
    "             'DIVORCED', 'MARRIED', 'WIDOWED', 'SINGLE', \n",
    "             'ASIAN', 'BLACK', 'HISPANIC', 'WHITE', \n",
    "             'EMERGENCY', 'URGENT',\n",
    "             'Medicaid', 'Medicare']\n",
    "\n",
    "\n",
    "# AKI features\n",
    "# train_cols = ['intercept','age_admit', \n",
    "#              'MICU', 'SICU', 'CCU', \n",
    "#              'DIVORCED', 'MARRIED', 'WIDOWED', 'SINGLE', \n",
    "#              'ASIAN', 'BLACK', 'HISPANIC', 'WHITE', \n",
    "#              'EMERGENCY', 'URGENT',\n",
    "#              'Medicaid', 'Medicare']"
   ]
  },
  {
   "cell_type": "code",
   "execution_count": 19,
   "metadata": {},
   "outputs": [
    {
     "name": "stdout",
     "output_type": "stream",
     "text": [
      "Optimization terminated successfully.\n",
      "         Current function value: 0.182062\n",
      "         Iterations 8\n"
     ]
    },
    {
     "data": {
      "text/html": [
       "<table class=\"simpletable\">\n",
       "<caption>Logit Regression Results</caption>\n",
       "<tr>\n",
       "  <th>Dep. Variable:</th>     <td>year_die</td>     <th>  No. Observations:  </th>  <td>  4105</td>  \n",
       "</tr>\n",
       "<tr>\n",
       "  <th>Model:</th>               <td>Logit</td>      <th>  Df Residuals:      </th>  <td>  4088</td>  \n",
       "</tr>\n",
       "<tr>\n",
       "  <th>Method:</th>               <td>MLE</td>       <th>  Df Model:          </th>  <td>    16</td>  \n",
       "</tr>\n",
       "<tr>\n",
       "  <th>Date:</th>          <td>Thu, 27 Sep 2018</td> <th>  Pseudo R-squ.:     </th>  <td>0.1402</td>  \n",
       "</tr>\n",
       "<tr>\n",
       "  <th>Time:</th>              <td>11:12:12</td>     <th>  Log-Likelihood:    </th> <td> -747.37</td> \n",
       "</tr>\n",
       "<tr>\n",
       "  <th>converged:</th>           <td>True</td>       <th>  LL-Null:           </th> <td> -869.24</td> \n",
       "</tr>\n",
       "<tr>\n",
       "  <th> </th>                      <td> </td>        <th>  LLR p-value:       </th> <td>9.918e-43</td>\n",
       "</tr>\n",
       "</table>\n",
       "<table class=\"simpletable\">\n",
       "<tr>\n",
       "      <td></td>         <th>coef</th>     <th>std err</th>      <th>z</th>      <th>P>|z|</th>  <th>[0.025</th>    <th>0.975]</th>  \n",
       "</tr>\n",
       "<tr>\n",
       "  <th>intercept</th> <td>   -3.2012</td> <td>    0.462</td> <td>   -6.925</td> <td> 0.000</td> <td>   -4.107</td> <td>   -2.295</td>\n",
       "</tr>\n",
       "<tr>\n",
       "  <th>age_admit</th> <td>    0.0061</td> <td>    0.001</td> <td>    4.923</td> <td> 0.000</td> <td>    0.004</td> <td>    0.009</td>\n",
       "</tr>\n",
       "<tr>\n",
       "  <th>M</th>         <td>   -0.1348</td> <td>    0.164</td> <td>   -0.824</td> <td> 0.410</td> <td>   -0.456</td> <td>    0.186</td>\n",
       "</tr>\n",
       "<tr>\n",
       "  <th>CCU</th>       <td>    0.1757</td> <td>    0.256</td> <td>    0.686</td> <td> 0.493</td> <td>   -0.327</td> <td>    0.678</td>\n",
       "</tr>\n",
       "<tr>\n",
       "  <th>CSRU</th>      <td>   -1.3210</td> <td>    0.275</td> <td>   -4.810</td> <td> 0.000</td> <td>   -1.859</td> <td>   -0.783</td>\n",
       "</tr>\n",
       "<tr>\n",
       "  <th>DIVORCED</th>  <td>    0.1253</td> <td>    0.396</td> <td>    0.316</td> <td> 0.752</td> <td>   -0.652</td> <td>    0.902</td>\n",
       "</tr>\n",
       "<tr>\n",
       "  <th>MARRIED</th>   <td>   -0.2450</td> <td>    0.286</td> <td>   -0.857</td> <td> 0.391</td> <td>   -0.805</td> <td>    0.315</td>\n",
       "</tr>\n",
       "<tr>\n",
       "  <th>WIDOWED</th>   <td>   -0.3681</td> <td>    0.327</td> <td>   -1.127</td> <td> 0.260</td> <td>   -1.008</td> <td>    0.272</td>\n",
       "</tr>\n",
       "<tr>\n",
       "  <th>SINGLE</th>    <td>   -0.3396</td> <td>    0.342</td> <td>   -0.994</td> <td> 0.320</td> <td>   -1.009</td> <td>    0.330</td>\n",
       "</tr>\n",
       "<tr>\n",
       "  <th>ASIAN</th>     <td>    0.5280</td> <td>    0.558</td> <td>    0.946</td> <td> 0.344</td> <td>   -0.566</td> <td>    1.622</td>\n",
       "</tr>\n",
       "<tr>\n",
       "  <th>BLACK</th>     <td>    0.6353</td> <td>    0.342</td> <td>    1.860</td> <td> 0.063</td> <td>   -0.034</td> <td>    1.305</td>\n",
       "</tr>\n",
       "<tr>\n",
       "  <th>HISPANIC</th>  <td>   -0.4133</td> <td>    0.617</td> <td>   -0.669</td> <td> 0.503</td> <td>   -1.624</td> <td>    0.797</td>\n",
       "</tr>\n",
       "<tr>\n",
       "  <th>WHITE</th>     <td>   -0.1901</td> <td>    0.175</td> <td>   -1.084</td> <td> 0.278</td> <td>   -0.534</td> <td>    0.154</td>\n",
       "</tr>\n",
       "<tr>\n",
       "  <th>EMERGENCY</th> <td>    0.2611</td> <td>    0.218</td> <td>    1.199</td> <td> 0.231</td> <td>   -0.166</td> <td>    0.688</td>\n",
       "</tr>\n",
       "<tr>\n",
       "  <th>URGENT</th>    <td>    0.2259</td> <td>    0.342</td> <td>    0.661</td> <td> 0.509</td> <td>   -0.444</td> <td>    0.896</td>\n",
       "</tr>\n",
       "<tr>\n",
       "  <th>Medicaid</th>  <td>    0.7508</td> <td>    0.381</td> <td>    1.969</td> <td> 0.049</td> <td>    0.003</td> <td>    1.498</td>\n",
       "</tr>\n",
       "<tr>\n",
       "  <th>Medicare</th>  <td>    1.0576</td> <td>    0.195</td> <td>    5.421</td> <td> 0.000</td> <td>    0.675</td> <td>    1.440</td>\n",
       "</tr>\n",
       "</table>"
      ],
      "text/plain": [
       "<class 'statsmodels.iolib.summary.Summary'>\n",
       "\"\"\"\n",
       "                           Logit Regression Results                           \n",
       "==============================================================================\n",
       "Dep. Variable:               year_die   No. Observations:                 4105\n",
       "Model:                          Logit   Df Residuals:                     4088\n",
       "Method:                           MLE   Df Model:                           16\n",
       "Date:                Thu, 27 Sep 2018   Pseudo R-squ.:                  0.1402\n",
       "Time:                        11:12:12   Log-Likelihood:                -747.37\n",
       "converged:                       True   LL-Null:                       -869.24\n",
       "                                        LLR p-value:                 9.918e-43\n",
       "==============================================================================\n",
       "                 coef    std err          z      P>|z|      [0.025      0.975]\n",
       "------------------------------------------------------------------------------\n",
       "intercept     -3.2012      0.462     -6.925      0.000      -4.107      -2.295\n",
       "age_admit      0.0061      0.001      4.923      0.000       0.004       0.009\n",
       "M             -0.1348      0.164     -0.824      0.410      -0.456       0.186\n",
       "CCU            0.1757      0.256      0.686      0.493      -0.327       0.678\n",
       "CSRU          -1.3210      0.275     -4.810      0.000      -1.859      -0.783\n",
       "DIVORCED       0.1253      0.396      0.316      0.752      -0.652       0.902\n",
       "MARRIED       -0.2450      0.286     -0.857      0.391      -0.805       0.315\n",
       "WIDOWED       -0.3681      0.327     -1.127      0.260      -1.008       0.272\n",
       "SINGLE        -0.3396      0.342     -0.994      0.320      -1.009       0.330\n",
       "ASIAN          0.5280      0.558      0.946      0.344      -0.566       1.622\n",
       "BLACK          0.6353      0.342      1.860      0.063      -0.034       1.305\n",
       "HISPANIC      -0.4133      0.617     -0.669      0.503      -1.624       0.797\n",
       "WHITE         -0.1901      0.175     -1.084      0.278      -0.534       0.154\n",
       "EMERGENCY      0.2611      0.218      1.199      0.231      -0.166       0.688\n",
       "URGENT         0.2259      0.342      0.661      0.509      -0.444       0.896\n",
       "Medicaid       0.7508      0.381      1.969      0.049       0.003       1.498\n",
       "Medicare       1.0576      0.195      5.421      0.000       0.675       1.440\n",
       "==============================================================================\n",
       "\"\"\""
      ]
     },
     "execution_count": 19,
     "metadata": {},
     "output_type": "execute_result"
    }
   ],
   "source": [
    "logit = sm.Logit(master3.year_die, master3[train_cols])\n",
    "result = logit.fit()\n",
    "result.summary()"
   ]
  },
  {
   "cell_type": "code",
   "execution_count": 12,
   "metadata": {},
   "outputs": [
    {
     "data": {
      "text/plain": [
       "LogisticRegression(C=1.0, class_weight=None, dual=False, fit_intercept=True,\n",
       "          intercept_scaling=1, max_iter=100, multi_class='ovr', n_jobs=1,\n",
       "          penalty='l2', random_state=None, solver='liblinear', tol=0.0001,\n",
       "          verbose=0, warm_start=False)"
      ]
     },
     "execution_count": 12,
     "metadata": {},
     "output_type": "execute_result"
    }
   ],
   "source": [
    "from sklearn.linear_model import LogisticRegression\n",
    "from sklearn import metrics\n",
    "\n",
    "X_train, X_test, y_train, y_test = train_test_split(master3[train_cols], master3.year_die, test_size=0.3, random_state=0)\n",
    "logreg = LogisticRegression()\n",
    "logreg.fit(X_train, y_train)"
   ]
  },
  {
   "cell_type": "code",
   "execution_count": 22,
   "metadata": {},
   "outputs": [
    {
     "name": "stdout",
     "output_type": "stream",
     "text": [
      "Accuracy of logistic regression classifier on test set: 0.95\n"
     ]
    }
   ],
   "source": [
    "y_pred = logreg.predict(X_test)\n",
    "print('Accuracy of logistic regression classifier on test set: {:.2f}'.format(logreg.score(X_test, y_test)))"
   ]
  },
  {
   "cell_type": "code",
   "execution_count": 18,
   "metadata": {},
   "outputs": [
    {
     "name": "stdout",
     "output_type": "stream",
     "text": [
      "[[1174    0]\n",
      " [  58    0]]\n"
     ]
    },
    {
     "ename": "NameError",
     "evalue": "name 'plot_confusion_matrix' is not defined",
     "output_type": "error",
     "traceback": [
      "\u001b[0;31m---------------------------------------------------------------------------\u001b[0m",
      "\u001b[0;31mNameError\u001b[0m                                 Traceback (most recent call last)",
      "\u001b[0;32m<ipython-input-18-b977099cc56e>\u001b[0m in \u001b[0;36m<module>\u001b[0;34m()\u001b[0m\n\u001b[1;32m      4\u001b[0m \u001b[0;34m\u001b[0m\u001b[0m\n\u001b[1;32m      5\u001b[0m \u001b[0mplt\u001b[0m\u001b[0;34m.\u001b[0m\u001b[0mfigure\u001b[0m\u001b[0;34m(\u001b[0m\u001b[0;34m)\u001b[0m\u001b[0;34m\u001b[0m\u001b[0m\n\u001b[0;32m----> 6\u001b[0;31m plot_confusion_matrix(confusion_matrix, classes=class_names,\n\u001b[0m\u001b[1;32m      7\u001b[0m                       title='Confusion matrix')\n",
      "\u001b[0;31mNameError\u001b[0m: name 'plot_confusion_matrix' is not defined"
     ]
    },
    {
     "data": {
      "text/plain": [
       "<Figure size 432x288 with 0 Axes>"
      ]
     },
     "metadata": {},
     "output_type": "display_data"
    }
   ],
   "source": [
    "from sklearn.metrics import confusion_matrix\n",
    "confusion_matrix = confusion_matrix(y_test, y_pred)\n",
    "print(confusion_matrix)\n",
    "\n",
    "plt.figure()\n",
    "plot_confusion_matrix(confusion_matrix, classes=class_names,\n",
    "                      title='Confusion matrix')"
   ]
  },
  {
   "cell_type": "code",
   "execution_count": 15,
   "metadata": {},
   "outputs": [
    {
     "name": "stdout",
     "output_type": "stream",
     "text": [
      "             precision    recall  f1-score   support\n",
      "\n",
      "          0       0.95      1.00      0.98      1174\n",
      "          1       0.00      0.00      0.00        58\n",
      "\n",
      "avg / total       0.91      0.95      0.93      1232\n",
      "\n"
     ]
    },
    {
     "name": "stderr",
     "output_type": "stream",
     "text": [
      "/Users/pradeepbandaru/anaconda/lib/python2.7/site-packages/sklearn/metrics/classification.py:1135: UndefinedMetricWarning: Precision and F-score are ill-defined and being set to 0.0 in labels with no predicted samples.\n",
      "  'precision', 'predicted', average, warn_for)\n"
     ]
    }
   ],
   "source": [
    "from sklearn.metrics import classification_report\n",
    "print(classification_report(y_test, y_pred))"
   ]
  },
  {
   "cell_type": "code",
   "execution_count": 16,
   "metadata": {},
   "outputs": [
    {
     "data": {
      "image/png": "[encoded data removed]",
      "text/plain": [
       "<Figure size 432x288 with 1 Axes>"
      ]
     },
     "metadata": {},
     "output_type": "display_data"
    }
   ],
   "source": [
    "from sklearn.metrics import roc_auc_score\n",
    "from sklearn.metrics import roc_curve\n",
    "logit_roc_auc = roc_auc_score(y_test, logreg.predict(X_test))\n",
    "fpr, tpr, thresholds = roc_curve(y_test, logreg.predict_proba(X_test)[:,1])\n",
    "plt.figure()\n",
    "plt.plot(fpr, tpr, label='Logistic Regression (area = %0.2f)' % logit_roc_auc)\n",
    "plt.plot([0, 1], [0, 1],'r--')\n",
    "plt.xlim([0.0, 1.0])\n",
    "plt.ylim([0.0, 1.05])\n",
    "plt.xlabel('False Positive Rate')\n",
    "plt.ylabel('True Positive Rate')\n",
    "plt.title('Receiver operating characteristic')\n",
    "plt.legend(loc=\"lower right\")\n",
    "plt.savefig('Log_ROC')\n",
    "plt.show()"
   ]
  },
  {
   "cell_type": "markdown",
   "metadata": {
    "collapsed": true
   },
   "source": [
    "## Pickle the dataset and create a web API"
   ]
  },
  {
   "cell_type": "code",
   "execution_count": 13,
   "metadata": {},
   "outputs": [
    {
     "data": {
      "text/plain": [
       "['model.pkl']"
      ]
     },
     "execution_count": 13,
     "metadata": {},
     "output_type": "execute_result"
    }
   ],
   "source": [
    "#from sklearn.externals import joblib\n",
    "#joblib.dump(logit, 'model.pkl')"
   ]
  },
  {
   "cell_type": "code",
   "execution_count": null,
   "metadata": {
    "collapsed": true
   },
   "outputs": [],
   "source": [
    "from flask import Flask, jsonify, render_template\n",
    "app = Flask(__name__)\n",
    "\n",
    "@app.route(\"/\")\n",
    "def logreg():\n",
    "    result = logit.fit()\n",
    "    data = result.summary()\n",
    "    return render_template('/Users/pradeepbandaru/Desktop/icu-risk-prediction/templates/dashboard.html', data=data)\n",
    "\n",
    "if __name__ == \"__main__\":\n",
    "    app.run()\n",
    "    app.debug=True"
   ]
  },
  {
   "cell_type": "code",
   "execution_count": null,
   "metadata": {
    "collapsed": true
   },
   "outputs": [],
   "source": [
    "logreg()"
   ]
  },
  {
   "cell_type": "code",
   "execution_count": null,
   "metadata": {
    "collapsed": true
   },
   "outputs": [],
   "source": []
  }
 ],
 "metadata": {
  "kernelspec": {
   "display_name": "Python 2",
   "language": "python",
   "name": "python2"
  },
  "language_info": {
   "codemirror_mode": {
    "name": "ipython",
    "version": 2
   },
   "file_extension": ".py",
   "mimetype": "text/x-python",
   "name": "python",
   "nbconvert_exporter": "python",
   "pygments_lexer": "ipython2",
   "version": "2.7.15"
  }
 },
 "nbformat": 4,
 "nbformat_minor": 2
}
